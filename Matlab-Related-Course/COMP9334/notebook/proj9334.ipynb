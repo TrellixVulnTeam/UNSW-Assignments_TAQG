{
 "cells": [
  {
   "cell_type": "code",
   "execution_count": 51,
   "metadata": {
    "collapsed": false,
    "scrolled": true
   },
   "outputs": [],
   "source": [
    "from random import expovariate, seed\n",
    "\n",
    "\n",
    "def inter_arrival_time_generator(l):\n",
    "    job_amount = range(20)\n",
    "    a = 999\n",
    "    for _ in job_amount:\n",
    "        seed(a)\n",
    "        yield expovariate(l) * random.uniform(0.75, 1.17)\n",
    "        a += 1\n",
    "\n",
    "# Simulation parameters         \n",
    "# l is lambda, 1/lambda = 7.2, so lambda = 1/7.2, Arribal Rate\n",
    "l = 1/7.2\n",
    "\n",
    "\n",
    "\n",
    "# Accounting parameters\n",
    "# T is the cumulative response time \n",
    "T = 0\n",
    "# number of completed jobs at the end of the simulation\n",
    "N = 0\n",
    "\n",
    "\n",
    "# Events\n",
    "next_arrival_time"
   ]
  },
  {
   "cell_type": "code",
   "execution_count": 57,
   "metadata": {
    "collapsed": false
   },
   "outputs": [
    {
     "name": "stdout",
     "output_type": "stream",
     "text": [
      "2.6816519060262136\n",
      "5.740175236030562\n",
      "7.702655886857158\n",
      "2.9480796098583406\n",
      "7.767929348079519\n",
      "2.019472168172152\n",
      "7.403647268986317\n",
      "8.12864096829799\n",
      "7.987960590794014\n",
      "7.048082341184669\n"
     ]
    }
   ],
   "source": [
    "import random\n",
    "for _ in range(10):\n",
    "    print(random.uniform(1, 10))\n"
   ]
  },
  {
   "cell_type": "code",
   "execution_count": null,
   "metadata": {
    "collapsed": true
   },
   "outputs": [],
   "source": []
  }
 ],
 "metadata": {
  "kernelspec": {
   "display_name": "Python 3",
   "language": "python",
   "name": "python3"
  },
  "language_info": {
   "codemirror_mode": {
    "name": "ipython",
    "version": 3
   },
   "file_extension": ".py",
   "mimetype": "text/x-python",
   "name": "python",
   "nbconvert_exporter": "python",
   "pygments_lexer": "ipython3",
   "version": "3.6.0"
  }
 },
 "nbformat": 4,
 "nbformat_minor": 2
}
